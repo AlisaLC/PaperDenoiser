{
 "cells": [
  {
   "cell_type": "code",
   "execution_count": null,
   "metadata": {
    "pycharm": {
     "is_executing": true
    }
   },
   "outputs": [],
   "source": [
    "from flask import Flask, send_file, request\n",
    "import torch\n",
    "from PIL import Image\n",
    "from io import BytesIO\n",
    "import torchvision.transforms as transforms\n",
    "from model.custom.net import ConvAutoencoder\n",
    "\n",
    "torch.cuda.empty_cache()\n",
    "\n",
    "app = Flask(__name__)\n",
    "model = ConvAutoencoder()\n",
    "model.load_state_dict(torch.load('save/custom/model_1.pkl'))\n",
    "model = model.cuda()\n",
    "model.eval()\n",
    "transform = transforms.Compose([\n",
    "    transforms.ToTensor(),\n",
    "])\n",
    "\n",
    "\n",
    "def serve_pil_image(pil_img):\n",
    "    img_io = BytesIO()\n",
    "    pil_img.save(img_io, 'JPEG', quality=100)\n",
    "    img_io.seek(0)\n",
    "    return send_file(img_io, mimetype='image/jpeg', as_attachment=True, download_name='denoised.jpg')\n",
    "\n",
    "\n",
    "@app.route(\"/\")\n",
    "def main():\n",
    "    return app.send_static_file('index.html')\n",
    "\n",
    "\n",
    "@app.route(\"/denoise\", methods=['POST'])\n",
    "def denoise():\n",
    "    image = request.files['image']\n",
    "    img_io = BytesIO()\n",
    "    image.save(img_io)\n",
    "    img_io.seek(0)\n",
    "    image = Image.open(img_io)\n",
    "    print(image.size)\n",
    "    image = image.resize((8 * (image.size[0] // 8), 8 * (image.size[1] // 8)))\n",
    "    print(image.size)\n",
    "    image = transform(image).cuda()\n",
    "    image = image.unsqueeze(0)\n",
    "    with torch.no_grad():\n",
    "        image = model(image)\n",
    "    image = image.squeeze(0)\n",
    "    image = image.cpu().detach().numpy()\n",
    "    image = image.transpose(1, 2, 0)\n",
    "    image = (image * 255).astype('uint8')\n",
    "    image = Image.fromarray(image)\n",
    "    return serve_pil_image(image)\n",
    "\n",
    "\n",
    "if __name__ == '__main__':\n",
    "    app.run(port=8080)"
   ]
  }
 ],
 "metadata": {
  "kernelspec": {
   "display_name": "Python 3",
   "language": "python",
   "name": "python3"
  },
  "language_info": {
   "codemirror_mode": {
    "name": "ipython",
    "version": 3
   },
   "file_extension": ".py",
   "mimetype": "text/x-python",
   "name": "python",
   "nbconvert_exporter": "python",
   "pygments_lexer": "ipython3",
   "version": "3.9.13"
  },
  "orig_nbformat": 4
 },
 "nbformat": 4,
 "nbformat_minor": 2
}
